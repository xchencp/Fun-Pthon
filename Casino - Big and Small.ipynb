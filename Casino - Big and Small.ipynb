{
 "cells": [
  {
   "cell_type": "code",
   "execution_count": 1,
   "id": "311a630d",
   "metadata": {},
   "outputs": [
    {
     "data": {
      "text/plain": [
       "'In this game, you have $1000 in hand. Good luck and have fun!'"
      ]
     },
     "execution_count": 1,
     "metadata": {},
     "output_type": "execute_result"
    }
   ],
   "source": [
    "\"\"\"In this game, you have $1000 in hand. Good luck and have fun!\"\"\""
   ]
  },
  {
   "cell_type": "code",
   "execution_count": 37,
   "id": "3008d207",
   "metadata": {},
   "outputs": [
    {
     "name": "stdout",
     "output_type": "stream",
     "text": [
      "Casino : 1 + 6 + 6 =  13\n",
      "Player : 1 + 6 + 4 =  11\n",
      "Casino wins!\n",
      "You lost all your money.\n"
     ]
    }
   ],
   "source": [
    "\"\"\"Adjustment area: \"\"\"\n",
    "Beginning_Cash = 100\n",
    "win_transaction_fee = 10\n",
    "\n",
    "from random import randint\n",
    "from IPython.display import clear_output\n",
    "cash = Beginning_Cash\n",
    "while cash>0:\n",
    "    print (\"You have %d in hand.\" %cash)\n",
    "    x = int(input (\"Please input the money for this game (max is %d)\"%cash))\n",
    "    clear_output(wait=True)\n",
    "    if x<=cash:\n",
    "        a = randint(1,6) \n",
    "        b = randint(1,6) \n",
    "        c = randint(1,6)\n",
    "        print(\"Casino : %d + %d + %d = \"%(a,b,c),a+b+c)\n",
    "        A = randint(1,6) \n",
    "        B = randint(1,6)\n",
    "        C = randint(1,6)\n",
    "        print(\"Player : %d + %d + %d = \"%(A,B,C),A+B+C)\n",
    "        if a+b+c>A+B+C:\n",
    "            print(\"Casino wins!\")\n",
    "            cash = cash - x\n",
    "        else:\n",
    "            if a+b+c<A+B+C :\n",
    "                print(\"Player wins!\")\n",
    "                cash = cash + x -win_transaction_fee\n",
    "            else:\n",
    "                print(\"The same.\")\n",
    "    else:\n",
    "        print(\"Please input a smaller number!\")\n",
    "print(\"You lost all your money.\")"
   ]
  },
  {
   "cell_type": "code",
   "execution_count": null,
   "id": "c01eb77a",
   "metadata": {},
   "outputs": [],
   "source": []
  }
 ],
 "metadata": {
  "kernelspec": {
   "display_name": "Python 3 (ipykernel)",
   "language": "python",
   "name": "python3"
  },
  "language_info": {
   "codemirror_mode": {
    "name": "ipython",
    "version": 3
   },
   "file_extension": ".py",
   "mimetype": "text/x-python",
   "name": "python",
   "nbconvert_exporter": "python",
   "pygments_lexer": "ipython3",
   "version": "3.9.7"
  }
 },
 "nbformat": 4,
 "nbformat_minor": 5
}
